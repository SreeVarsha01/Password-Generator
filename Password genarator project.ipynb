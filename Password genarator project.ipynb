{
 "cells": [
  {
   "cell_type": "code",
   "execution_count": 3,
   "id": "a950ae81",
   "metadata": {},
   "outputs": [],
   "source": [
    "from tkinter import *\n",
    "import random,string \n",
    "import pyperclip\n",
    "root=Tk()\n",
    "root.title(\"PASSWORD GENERATOR\")\n",
    "root.geometry(\"350x350\")\n",
    "root.resizable(0,0)\n",
    "heading=Label(root,text=\"PASSWORD GENERATOR\",font=\"arial 15 bold\").pack()\n",
    "\n",
    "pass_Label=Label(root,text=\"PASSWORD LENGTH\",font=\"arial 10 bold\").pack()\n",
    "pass_len=IntVar()\n",
    "length=Spinbox(root,from_=4, to_=8, textvariable=pass_len,width=15).pack()\n",
    "\n",
    "pass_str=StringVar()\n",
    "def Password_Generator():\n",
    "    password=\"\"\n",
    "    for x in range(0,4):\n",
    "        password=random.choice(string.ascii_uppercase)+random.choice(string.ascii_lowercase)+random.choice(string.digits)+random.choice(string.punctuation)\n",
    "    for y in range(pass_len.get()-4):\n",
    "        password=password+random.choice(string.ascii_uppercase+string.ascii_lowercase+string.digits+string.punctuation)\n",
    "    pass_str.set(password)\n",
    "Button(root,text=\"GENERATE PASSWORD\",command=Password_Generator).pack(pady=10)\n",
    "Entry(root,textvariable=pass_str).pack()\n",
    "\n",
    "def Copy_password():\n",
    "    pyperclip.copy(pass_str.get())\n",
    "Button(root,text=\"COPY CLIPBOARD\",command=Copy_password).pack(pady=10)\n",
    "  \n",
    "root.mainloop()"
   ]
  },
  {
   "cell_type": "code",
   "execution_count": null,
   "id": "30131db5",
   "metadata": {},
   "outputs": [],
   "source": [
    "12335546532123"
   ]
  }
 ],
 "metadata": {
  "kernelspec": {
   "display_name": "Python 3 (ipykernel)",
   "language": "python",
   "name": "python3"
  },
  "language_info": {
   "codemirror_mode": {
    "name": "ipython",
    "version": 3
   },
   "file_extension": ".py",
   "mimetype": "text/x-python",
   "name": "python",
   "nbconvert_exporter": "python",
   "pygments_lexer": "ipython3",
   "version": "3.9.12"
  }
 },
 "nbformat": 4,
 "nbformat_minor": 5
}
